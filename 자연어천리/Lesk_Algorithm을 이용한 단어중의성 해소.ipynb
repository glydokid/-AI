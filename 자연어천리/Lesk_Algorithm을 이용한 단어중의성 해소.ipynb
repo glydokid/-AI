{
 "cells": [
  {
   "cell_type": "code",
   "execution_count": 26,
   "id": "b1dfb0dc",
   "metadata": {},
   "outputs": [
    {
     "name": "stdout",
     "output_type": "stream",
     "text": [
      "Requirement already satisfied: nltk==3.3 in c:\\users\\kimseonghoon\\anaconda3\\lib\\site-packages (3.3)\n",
      "Requirement already satisfied: six in c:\\users\\kimseonghoon\\anaconda3\\lib\\site-packages (from nltk==3.3) (1.16.0)\n"
     ]
    }
   ],
   "source": [
    "!pip3 install nltk==3.3"
   ]
  },
  {
   "cell_type": "code",
   "execution_count": 27,
   "id": "62419478",
   "metadata": {},
   "outputs": [
    {
     "name": "stdout",
     "output_type": "stream",
     "text": [
      "[nltk_data] Downloading package wordnet to\n",
      "[nltk_data]     C:\\Users\\KimSeongHoon\\AppData\\Roaming\\nltk_data...\n",
      "[nltk_data]   Package wordnet is already up-to-date!\n",
      "[nltk_data] Downloading package punkt to\n",
      "[nltk_data]     C:\\Users\\KimSeongHoon\\AppData\\Roaming\\nltk_data...\n",
      "[nltk_data]   Package punkt is already up-to-date!\n",
      "[nltk_data] Downloading package stopwords to\n",
      "[nltk_data]     C:\\Users\\KimSeongHoon\\AppData\\Roaming\\nltk_data...\n",
      "[nltk_data]   Package stopwords is already up-to-date!\n"
     ]
    }
   ],
   "source": [
    "import nltk\n",
    "nltk.download('wordnet')\n",
    "nltk.download('punkt')\n",
    "nltk.download('stopwords')\n",
    "from nltk.corpus import wordnet \n",
    "from nltk import word_tokenize\n",
    "from nltk.corpus import stopwords\n",
    "import sys"
   ]
  },
  {
   "cell_type": "code",
   "execution_count": 28,
   "id": "f07be263",
   "metadata": {},
   "outputs": [],
   "source": [
    "def disambiguate(word, sentence, stopwords):\n",
    "        # Best sense 를 얻기위한 Lesk 알고리즘을 작성해보세요.\n",
    "        \n",
    "        word_senses = wordnet.synsets(word)\n",
    "        best_sense = word_senses[0]  # Assume that first sense is most freq.\n",
    "        max_overlap = 0\n",
    "        context = set(word_tokenize(sentence))\n",
    "        for sense in word_senses:\n",
    "            signature = tokenized_gloss(sense)\n",
    "            overlap = compute_overlap(signature, context, stopwords)\n",
    "            if overlap > max_overlap:\n",
    "                max_overlap = overlap\n",
    "                best_sense = sense\n",
    "                \n",
    "        return best_sense"
   ]
  },
  {
   "cell_type": "code",
   "execution_count": 29,
   "id": "40283211",
   "metadata": {},
   "outputs": [],
   "source": [
    "def tokenized_gloss(sense):\n",
    "        tokens = set(word_tokenize(sense.definition()))\n",
    "        for example in sense.examples():\n",
    "            tokens.union(set(word_tokenize(example)))\n",
    "        return tokens"
   ]
  },
  {
   "cell_type": "code",
   "execution_count": 30,
   "id": "4f03ab43",
   "metadata": {},
   "outputs": [],
   "source": [
    "def compute_overlap(signature, context, stopwords):\n",
    "        gloss = signature.difference(stopwords)\n",
    "        return len(gloss.intersection(context))"
   ]
  },
  {
   "cell_type": "code",
   "execution_count": 31,
   "id": "cf809bc2",
   "metadata": {},
   "outputs": [
    {
     "name": "stdout",
     "output_type": "stream",
     "text": [
      "Word : enters\n",
      "Sense : accede.v.02\n",
      "Definition : take on duties or office\n",
      "Sentence : My father enters the room.\n",
      "{'on', 'office', 'duties', 'take', 'or'}\n",
      "0\n",
      "Best sense:  Synset('enter.v.01')\n"
     ]
    }
   ],
   "source": [
    "stopwords = set(stopwords.words('english'))# NLTK에서 지정한 영어 불용어 처리 ex) i, my, they...\n",
    "sentence = (\"My father enters the room.\")\n",
    "context = set(word_tokenize(sentence))\n",
    "word = 'enters'\n",
    "\n",
    "print(\"Word :\", word)\n",
    "syn = wordnet.synsets(word)[6]\n",
    "print(\"Sense :\", syn.name())\n",
    "print(\"Definition :\", syn.definition())\n",
    "print(\"Sentence :\", sentence)\n",
    "\n",
    "signature = tokenized_gloss(syn)\n",
    "print(signature)\n",
    "print(compute_overlap(signature, context, stopwords))\n",
    "print(\"Best sense: \", disambiguate(word, sentence, stopwords))"
   ]
  },
  {
   "cell_type": "code",
   "execution_count": null,
   "id": "3d031521",
   "metadata": {},
   "outputs": [],
   "source": []
  }
 ],
 "metadata": {
  "kernelspec": {
   "display_name": "Python 3 (ipykernel)",
   "language": "python",
   "name": "python3"
  },
  "language_info": {
   "codemirror_mode": {
    "name": "ipython",
    "version": 3
   },
   "file_extension": ".py",
   "mimetype": "text/x-python",
   "name": "python",
   "nbconvert_exporter": "python",
   "pygments_lexer": "ipython3",
   "version": "3.9.7"
  }
 },
 "nbformat": 4,
 "nbformat_minor": 5
}

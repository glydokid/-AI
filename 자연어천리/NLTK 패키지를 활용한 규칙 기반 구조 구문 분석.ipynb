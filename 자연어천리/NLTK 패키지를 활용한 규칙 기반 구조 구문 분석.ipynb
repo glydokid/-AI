{
 "cells": [
  {
   "cell_type": "code",
   "execution_count": 50,
   "id": "5fd4cf1d",
   "metadata": {},
   "outputs": [
    {
     "name": "stdout",
     "output_type": "stream",
     "text": [
      "Requirement already satisfied: nltk==3.3 in c:\\users\\kimseonghoon\\anaconda3\\lib\\site-packages (3.3)\n",
      "Requirement already satisfied: six in c:\\users\\kimseonghoon\\anaconda3\\lib\\site-packages (from nltk==3.3) (1.16.0)\n"
     ]
    }
   ],
   "source": [
    "!pip install nltk==3.3"
   ]
  },
  {
   "cell_type": "code",
   "execution_count": 77,
   "id": "0ef71948",
   "metadata": {},
   "outputs": [],
   "source": [
    "import nltk"
   ]
  },
  {
   "cell_type": "code",
   "execution_count": 82,
   "id": "6e6e3b74",
   "metadata": {},
   "outputs": [],
   "source": [
    "grammar = nltk.CFG.fromstring(\"\"\"\n",
    "S -> NP VP\n",
    "NP -> NN XSN JK | NN JK \n",
    "VP -> NP VP | VV EP EF \n",
    "NN -> '아버지' | '방'\n",
    "XSN -> '들'\n",
    "JK -> '가' | '에'\n",
    "VV -> '먹' |'들어가' \n",
    "EP -> '었' | '신'S\n",
    "EF -> '다' \n",
    "\"\"\")"
   ]
  },
  {
   "cell_type": "code",
   "execution_count": 83,
   "id": "5749bdb9",
   "metadata": {},
   "outputs": [],
   "source": [
    "parser = nltk.ChartParser(grammar)"
   ]
  },
  {
   "cell_type": "code",
   "execution_count": 84,
   "id": "4cc5482d",
   "metadata": {},
   "outputs": [],
   "source": [
    "sent = ['아버지', '가', '방', '에', '들어가', '신', '다']"
   ]
  },
  {
   "cell_type": "code",
   "execution_count": 85,
   "id": "79e037d6",
   "metadata": {},
   "outputs": [
    {
     "name": "stdout",
     "output_type": "stream",
     "text": [
      "(S\n",
      "  (NP (NN 아버지) (JK 가))\n",
      "  (VP (NP (NN 방) (JK 에)) (VP (VV 들어가) (EP 신) (EF 다))))\n"
     ]
    }
   ],
   "source": [
    "for tree in parser.parse(sent):\n",
    "  print(tree)"
   ]
  }
 ],
 "metadata": {
  "kernelspec": {
   "display_name": "Python 3 (ipykernel)",
   "language": "python",
   "name": "python3"
  },
  "language_info": {
   "codemirror_mode": {
    "name": "ipython",
    "version": 3
   },
   "file_extension": ".py",
   "mimetype": "text/x-python",
   "name": "python",
   "nbconvert_exporter": "python",
   "pygments_lexer": "ipython3",
   "version": "3.9.7"
  }
 },
 "nbformat": 4,
 "nbformat_minor": 5
}

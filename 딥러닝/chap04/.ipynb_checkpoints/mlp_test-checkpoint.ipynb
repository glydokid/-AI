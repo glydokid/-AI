{
 "cells": [
  {
   "cell_type": "code",
   "execution_count": 1,
   "id": "39868e80",
   "metadata": {},
   "outputs": [
    {
     "name": "stdout",
     "output_type": "stream",
     "text": [
      "은닉 계층 0개를 갖는 다층 퍼셉트론이 작동되었습니다.\n",
      "Epoch 1: loss=33.875, accuracy=0.557/0.812\n",
      "Epoch 2: loss=8.226, accuracy=0.820/0.814\n",
      "Epoch 3: loss=7.582, accuracy=0.812/0.809\n",
      "Epoch 4: loss=7.475, accuracy=0.808/0.811\n",
      "Epoch 5: loss=7.395, accuracy=0.810/0.809\n",
      "Epoch 6: loss=7.328, accuracy=0.808/0.810\n",
      "Epoch 7: loss=7.269, accuracy=0.808/0.811\n",
      "Epoch 8: loss=7.217, accuracy=0.808/0.812\n",
      "Epoch 9: loss=7.175, accuracy=0.810/0.810\n",
      "Epoch 10: loss=7.135, accuracy=0.809/0.810\n",
      "\n",
      "Final Test: final accuracy = 0.810\n"
     ]
    }
   ],
   "source": [
    "#전복 고리 수 추정 문제\n",
    "%run ../chap01/abalone.ipynb #'전복 고리 수 추정 신경망'에서 구현한 함수들이 실제로 정의되도록\n",
    "%run ../chap04/mlp.ipynb #단층 퍼셉트론 구조를 처리하던 함수들이 다층 퍼셉트론을 지원하는 형태로 재정의\n",
    "set_hidden([]) #은닉 계층 구성 정보를 공백 리스트로 지정\n",
    "abalone_exec() # 메인 함수를 실행 => 은닉 계층이 전혀 없는 출력 계층으로만 구성되는 사실상 단층 퍼셉트론 신경망"
   ]
  },
  {
   "cell_type": "code",
   "execution_count": 2,
   "id": "f4e6d2ad",
   "metadata": {},
   "outputs": [
    {
     "name": "stdout",
     "output_type": "stream",
     "text": [
      "은닉 계층 하나를 갖는 다층 퍼셉트론이 작동되었습니다.\n",
      "Epoch 10: loss=6.849, accuracy=0.806/0.803\n",
      "Epoch 20: loss=6.294, accuracy=0.815/0.812\n",
      "Epoch 30: loss=5.572, accuracy=0.827/0.840\n",
      "Epoch 40: loss=5.105, accuracy=0.835/0.842\n",
      "Epoch 50: loss=4.955, accuracy=0.838/0.837\n",
      "\n",
      "Final Test: final accuracy = 0.837\n"
     ]
    }
   ],
   "source": [
    "#은닉계층 하나로 풀어보는 전복 고리 수 추정 문제\n",
    "set_hidden(4) #폭을 4로 하는 은닉 계층 하나를 이용하는 다층 퍼셉트론 구조를 지정\n",
    "abalone_exec(epoch_count=50, report=10) #50에포크 학습 => 83.7% "
   ]
  },
  {
   "cell_type": "code",
   "execution_count": 10,
   "id": "1cbc3f01",
   "metadata": {},
   "outputs": [
    {
     "name": "stdout",
     "output_type": "stream",
     "text": [
      "은닉 계층 4개를 갖는 다층 퍼셉트론이 작동되었습니다.\n",
      "Epoch 100: loss=36.821, accuracy=0.528/0.532\n",
      "Epoch 200: loss=14.880, accuracy=0.744/0.740\n",
      "Epoch 300: loss=10.572, accuracy=0.738/0.719\n",
      "Epoch 400: loss=10.551, accuracy=0.735/0.715\n",
      "Epoch 500: loss=10.551, accuracy=0.734/0.715\n",
      "Epoch 600: loss=10.551, accuracy=0.734/0.715\n",
      "Epoch 700: loss=10.551, accuracy=0.734/0.715\n",
      "Epoch 800: loss=10.551, accuracy=0.734/0.715\n",
      "Epoch 900: loss=10.551, accuracy=0.734/0.715\n",
      "Epoch 1000: loss=10.551, accuracy=0.734/0.715\n",
      "\n",
      "Final Test: final accuracy = 0.715\n"
     ]
    }
   ],
   "source": [
    "#test\n",
    "LEARNING_RATE=0.00001\n",
    "set_hidden([32,16,8,4])\n",
    "abalone_exec(epoch_count=1000, report=100)"
   ]
  },
  {
   "cell_type": "code",
   "execution_count": 4,
   "id": "c0c0e706",
   "metadata": {},
   "outputs": [
    {
     "name": "stdout",
     "output_type": "stream",
     "text": [
      "은닉 계층 하나를 갖는 다층 퍼셉트론이 작동되었습니다.\n",
      "Epoch 10: loss=6.757, accuracy=0.808/0.813\n",
      "Epoch 20: loss=6.255, accuracy=0.817/0.817\n",
      "Epoch 30: loss=5.554, accuracy=0.829/0.819\n",
      "Epoch 40: loss=5.093, accuracy=0.837/0.845\n",
      "Epoch 50: loss=4.948, accuracy=0.840/0.827\n",
      "\n",
      "Final Test: final accuracy = 0.827\n"
     ]
    }
   ],
   "source": [
    "#난수 함수의 효과 확인\n",
    "abalone_exec(epoch_count=50, report=10) #함수를 호출하면 엎선 set_hidden() 신경망 구성 정보가 그대로 이용"
   ]
  },
  {
   "cell_type": "code",
   "execution_count": 12,
   "id": "bec9f593",
   "metadata": {},
   "outputs": [
    {
     "name": "stdout",
     "output_type": "stream",
     "text": [
      "은닉 계층 하나를 갖는 다층 퍼셉트론이 작동되었습니다.\n",
      "Epoch 10: loss=0.094, accuracy=0.972/0.972\n",
      "Epoch 20: loss=0.091, accuracy=0.973/0.974\n",
      "Epoch 30: loss=0.091, accuracy=0.973/0.974\n",
      "Epoch 40: loss=0.089, accuracy=0.974/0.974\n",
      "Epoch 50: loss=0.089, accuracy=0.974/0.975\n",
      "\n",
      "Final Test: final accuracy = 0.975\n"
     ]
    }
   ],
   "source": [
    "#천체 펄서 판정 문제\n",
    "#은닉계층 하나로 풀어보는 펄서 여부 판정 문제\n",
    "%run ../chap02/pulsar.ipynb #\n",
    "%run ../chap04/mlp.ipynb\n",
    "set_hidden(6)\n",
    "pulsar_exec(epoch_count=50, report=10)"
   ]
  },
  {
   "cell_type": "code",
   "execution_count": 6,
   "id": "a1386a22",
   "metadata": {},
   "outputs": [
    {
     "name": "stdout",
     "output_type": "stream",
     "text": [
      "은닉 계층 1개를 갖는 다층 퍼셉트론이 작동되었습니다.\n",
      "Epoch 10: loss=0.090, accuracy=0.973/0.969\n",
      "Epoch 20: loss=0.087, accuracy=0.974/0.969\n",
      "Epoch 30: loss=0.085, accuracy=0.975/0.973\n",
      "Epoch 40: loss=0.083, accuracy=0.976/0.972\n",
      "Epoch 50: loss=0.083, accuracy=0.976/0.972\n",
      "\n",
      "Final Test: final accuracy = 0.972\n"
     ]
    }
   ],
   "source": [
    "#은닉 계층 하나인 다층 퍼셉트론의 두가지 표현법\n",
    "\n",
    "set_hidden([6]) #크기 6의 원소 하나만 가진 리스트로 은닉 계층 구성 정보 지정\n",
    "pulsar_exec(epoch_count=50, report=10)"
   ]
  },
  {
   "cell_type": "code",
   "execution_count": 7,
   "id": "c5b5935c",
   "metadata": {
    "scrolled": false
   },
   "outputs": [
    {
     "name": "stdout",
     "output_type": "stream",
     "text": [
      "은닉 계층 2개를 갖는 다층 퍼셉트론이 작동되었습니다.\n",
      "Epoch 40: loss=0.090, accuracy=0.973/0.972\n",
      "Epoch 80: loss=0.086, accuracy=0.975/0.974\n",
      "Epoch 120: loss=0.084, accuracy=0.976/0.971\n",
      "Epoch 160: loss=0.081, accuracy=0.976/0.972\n",
      "Epoch 200: loss=0.081, accuracy=0.976/0.973\n",
      "\n",
      "Final Test: final accuracy = 0.973\n"
     ]
    }
   ],
   "source": [
    "#은닉 계층 두 개로 풀어보는 펄서 여부 판정 문제\n",
    "set_hidden([12,6]) #첫 은닉계층은 12개, 두 번째 은닉 계층은 6개의 퍼셉트론 구성\n",
    "pulsar_exec(epoch_count=200, report=40) #학습에포크 200"
   ]
  },
  {
   "cell_type": "code",
   "execution_count": 18,
   "id": "74cfacf2",
   "metadata": {},
   "outputs": [
    {
     "name": "stdout",
     "output_type": "stream",
     "text": [
      "은닉 계층 2개를 갖는 다층 퍼셉트론이 작동되었습니다.\n",
      "Epoch 40: loss=0.092, accuracy=0.973/0.971\n",
      "Epoch 80: loss=0.086, accuracy=0.974/0.971\n",
      "Epoch 120: loss=0.084, accuracy=0.976/0.973\n",
      "Epoch 160: loss=0.082, accuracy=0.976/0.973\n",
      "Epoch 200: loss=0.082, accuracy=0.976/0.973\n",
      "\n",
      "Final Test: final accuracy = 0.973\n"
     ]
    }
   ],
   "source": [
    "#test\n",
    "LEARNING_RATE=0.001\n",
    "set_hidden([12,6])\n",
    "pulsar_exec(epoch_count=200, report=40)"
   ]
  },
  {
   "cell_type": "code",
   "execution_count": 20,
   "id": "52ac5c58",
   "metadata": {},
   "outputs": [
    {
     "name": "stdout",
     "output_type": "stream",
     "text": [
      "은닉 계층 하나를 갖는 다층 퍼셉트론이 작동되었습니다.\n",
      "Epoch 10: loss=1.849, accuracy=0.352/0.325\n",
      "Epoch 20: loss=1.786, accuracy=0.352/0.325\n",
      "Epoch 30: loss=1.747, accuracy=0.352/0.325\n",
      "Epoch 40: loss=1.723, accuracy=0.352/0.325\n",
      "Epoch 50: loss=1.708, accuracy=0.352/0.325\n",
      "\n",
      "Final Test: final accuracy = 0.325\n"
     ]
    }
   ],
   "source": [
    "#철판 재료의 불량 판별 문제\n",
    "#은닉 계층 하나로 풀어보는 철판의 불량 판별 문제\n",
    "%run ../chap03/steel.ipynb\n",
    "%run ../chap04/mlp.ipynb\n",
    "set_hidden(10)\n",
    "steel_exec(epoch_count=50, report=10)"
   ]
  },
  {
   "cell_type": "code",
   "execution_count": 10,
   "id": "dd4833b9",
   "metadata": {},
   "outputs": [
    {
     "name": "stdout",
     "output_type": "stream",
     "text": [
      "은닉 계층 3개를 갖는 다층 퍼셉트론이 작동되었습니다.\n",
      "Epoch 10: loss=1.855, accuracy=0.346/0.350\n",
      "Epoch 20: loss=1.795, accuracy=0.346/0.350\n",
      "Epoch 30: loss=1.758, accuracy=0.346/0.350\n",
      "Epoch 40: loss=1.735, accuracy=0.346/0.350\n",
      "Epoch 50: loss=1.721, accuracy=0.346/0.350\n",
      "\n",
      "Final Test: final accuracy = 0.350\n"
     ]
    }
   ],
   "source": [
    "#은닉층 3개로 풀어보는 철판의 불량 판별 문제\n",
    "set_hidden([12, 6, 4])\n",
    "steel_exec(epoch_count=50, report=10)"
   ]
  },
  {
   "cell_type": "code",
   "execution_count": 11,
   "id": "c2f36aed",
   "metadata": {},
   "outputs": [
    {
     "name": "stdout",
     "output_type": "stream",
     "text": [
      "은닉 계층 3개를 갖는 다층 퍼셉트론이 작동되었습니다.\n",
      "Epoch 10: loss=1.738, accuracy=0.257/0.182\n",
      "Epoch 20: loss=1.618, accuracy=0.315/0.468\n",
      "Epoch 30: loss=1.604, accuracy=0.390/0.389\n",
      "Epoch 40: loss=1.594, accuracy=0.422/0.471\n",
      "Epoch 50: loss=1.584, accuracy=0.444/0.471\n",
      "\n",
      "Final Test: final accuracy = 0.471\n"
     ]
    }
   ],
   "source": [
    "#학습률을 바꾸어 풀어보는 철판의 불량 판별 문제\n",
    "LEARNING_RATE=0.0001\n",
    "hidden_config = [12, 6, 4]\n",
    "steel_exec(epoch_count=50, report=10)"
   ]
  },
  {
   "cell_type": "code",
   "execution_count": 14,
   "id": "44051464",
   "metadata": {},
   "outputs": [
    {
     "name": "stdout",
     "output_type": "stream",
     "text": [
      "은닉 계층 5개를 갖는 다층 퍼셉트론이 작동되었습니다.\n",
      "Epoch 10: loss=1.945, accuracy=0.341/0.371\n",
      "Epoch 20: loss=1.944, accuracy=0.341/0.371\n",
      "Epoch 30: loss=1.942, accuracy=0.341/0.371\n",
      "Epoch 40: loss=1.941, accuracy=0.341/0.371\n",
      "Epoch 50: loss=1.940, accuracy=0.341/0.371\n",
      "Epoch 60: loss=1.939, accuracy=0.341/0.371\n",
      "Epoch 70: loss=1.938, accuracy=0.341/0.371\n",
      "Epoch 80: loss=1.936, accuracy=0.341/0.371\n",
      "Epoch 90: loss=1.935, accuracy=0.341/0.371\n",
      "Epoch 100: loss=1.934, accuracy=0.341/0.371\n",
      "\n",
      "Final Test: final accuracy = 0.371\n"
     ]
    }
   ],
   "source": [
    "LEARNING_RATE=0.00001\n",
    "hidden_config = [24 ,12, 6, 4, 2]\n",
    "steel_exec(epoch_count=100, report=10)"
   ]
  },
  {
   "cell_type": "code",
   "execution_count": 28,
   "id": "b391e362",
   "metadata": {},
   "outputs": [
    {
     "name": "stdout",
     "output_type": "stream",
     "text": [
      "은닉 계층 3개를 갖는 다층 퍼셉트론이 작동되었습니다.\n",
      "Epoch 100: loss=1.524, accuracy=0.470/0.488\n",
      "Epoch 200: loss=1.454, accuracy=0.486/0.506\n",
      "Epoch 300: loss=1.459, accuracy=0.480/0.488\n",
      "Epoch 400: loss=1.471, accuracy=0.485/0.499\n",
      "Epoch 500: loss=1.446, accuracy=0.479/0.537\n",
      "Epoch 600: loss=1.428, accuracy=0.483/0.537\n",
      "Epoch 700: loss=1.448, accuracy=0.484/0.517\n",
      "Epoch 800: loss=1.800, accuracy=0.337/0.384\n",
      "Epoch 900: loss=1.769, accuracy=0.337/0.384\n",
      "Epoch 1000: loss=1.746, accuracy=0.337/0.384\n",
      "\n",
      "Final Test: final accuracy = 0.384\n"
     ]
    }
   ],
   "source": [
    "#test\n",
    "LEARNING_RATE=0.0001\n",
    "hidden_config = [32, 16, 8]\n",
    "steel_exec(epoch_count=1000, report=100)"
   ]
  },
  {
   "cell_type": "code",
   "execution_count": null,
   "id": "837057a5",
   "metadata": {},
   "outputs": [],
   "source": []
  }
 ],
 "metadata": {
  "kernelspec": {
   "display_name": "Python 3 (ipykernel)",
   "language": "python",
   "name": "python3"
  },
  "language_info": {
   "codemirror_mode": {
    "name": "ipython",
    "version": 3
   },
   "file_extension": ".py",
   "mimetype": "text/x-python",
   "name": "python",
   "nbconvert_exporter": "python",
   "pygments_lexer": "ipython3",
   "version": "3.9.7"
  }
 },
 "nbformat": 4,
 "nbformat_minor": 5
}

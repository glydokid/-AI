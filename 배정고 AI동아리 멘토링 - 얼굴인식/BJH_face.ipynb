{
 "cells": [
  {
   "cell_type": "code",
   "execution_count": 1,
   "id": "14d99c26",
   "metadata": {},
   "outputs": [
    {
     "name": "stdout",
     "output_type": "stream",
     "text": [
      "Requirement already satisfied: face_recognition in c:\\users\\kimseonghoon\\anaconda3\\envs\\bjh\\lib\\site-packages (1.3.0)\n",
      "Requirement already satisfied: Pillow in c:\\users\\kimseonghoon\\anaconda3\\envs\\bjh\\lib\\site-packages (from face_recognition) (8.4.0)\n",
      "Requirement already satisfied: numpy in c:\\users\\kimseonghoon\\anaconda3\\envs\\bjh\\lib\\site-packages (from face_recognition) (1.19.5)\n",
      "Requirement already satisfied: face-recognition-models>=0.3.0 in c:\\users\\kimseonghoon\\anaconda3\\envs\\bjh\\lib\\site-packages (from face_recognition) (0.3.0)\n",
      "Requirement already satisfied: dlib>=19.7 in c:\\users\\kimseonghoon\\anaconda3\\envs\\bjh\\lib\\site-packages (from face_recognition) (19.24.0)\n",
      "Requirement already satisfied: Click>=6.0 in c:\\users\\kimseonghoon\\anaconda3\\envs\\bjh\\lib\\site-packages (from face_recognition) (8.0.3)\n",
      "Requirement already satisfied: colorama in c:\\users\\kimseonghoon\\anaconda3\\envs\\bjh\\lib\\site-packages (from Click>=6.0->face_recognition) (0.4.4)\n",
      "Requirement already satisfied: importlib-metadata in c:\\users\\kimseonghoon\\anaconda3\\envs\\bjh\\lib\\site-packages (from Click>=6.0->face_recognition) (4.8.1)\n",
      "Requirement already satisfied: typing-extensions>=3.6.4 in c:\\users\\kimseonghoon\\anaconda3\\envs\\bjh\\lib\\site-packages (from importlib-metadata->Click>=6.0->face_recognition) (4.1.1)\n",
      "Requirement already satisfied: zipp>=0.5 in c:\\users\\kimseonghoon\\anaconda3\\envs\\bjh\\lib\\site-packages (from importlib-metadata->Click>=6.0->face_recognition) (3.6.0)\n"
     ]
    }
   ],
   "source": [
    "!pip3 install face_recognition"
   ]
  },
  {
   "cell_type": "code",
   "execution_count": 2,
   "id": "521a4444",
   "metadata": {},
   "outputs": [
    {
     "name": "stdout",
     "output_type": "stream",
     "text": [
      "Requirement already satisfied: dlib in c:\\users\\kimseonghoon\\anaconda3\\envs\\bjh\\lib\\site-packages (19.24.0)\n"
     ]
    }
   ],
   "source": [
    "!pip install dlib"
   ]
  },
  {
   "cell_type": "code",
   "execution_count": 3,
   "id": "876e08f0",
   "metadata": {},
   "outputs": [
    {
     "name": "stdout",
     "output_type": "stream",
     "text": [
      "Requirement already satisfied: opencv-contrib-python in c:\\users\\kimseonghoon\\anaconda3\\envs\\bjh\\lib\\site-packages (4.5.5.64)\n",
      "Requirement already satisfied: numpy>=1.13.3 in c:\\users\\kimseonghoon\\anaconda3\\envs\\bjh\\lib\\site-packages (from opencv-contrib-python) (1.19.5)\n"
     ]
    }
   ],
   "source": [
    "!pip install opencv-contrib-python"
   ]
  },
  {
   "cell_type": "code",
   "execution_count": 6,
   "id": "76df1274",
   "metadata": {},
   "outputs": [],
   "source": [
    "import face_recognition\n",
    "import cv2\n",
    "import numpy as np\n",
    "\n",
    "video_capture = cv2.VideoCapture(0)\n",
    "\n",
    "# Load a sample picture and learn how to recognize it.\n",
    "obama_image = face_recognition.load_image_file(\"C:/Users/KimSeongHoon/data/BGH/kim/kim.jpg\")\n",
    "obama_face_encoding = face_recognition.face_encodings(obama_image)[0]\n",
    "\n",
    "# Load a second sample picture and learn how to recognize it.\n",
    "biden_image = face_recognition.load_image_file(\"C:/Users/KimSeongHoon/data/BGH/Lee/Lee.jpg\")\n",
    "biden_face_encoding = face_recognition.face_encodings(biden_image)[0]\n",
    "\n",
    "# Load a second sample picture and learn how to recognize it.\n",
    "biden_image2 = face_recognition.load_image_file(\"C:/Users/KimSeongHoon/data\\BGH/Jeong/jeong.jpg\")\n",
    "biden_face_encoding2 = face_recognition.face_encodings(biden_image2)[0]\n",
    "\n",
    "# Load a second sample picture and learn how to recognize it.\n",
    "biden_image3 = face_recognition.load_image_file(\"C:/Users/KimSeongHoon/data\\BGH/Yoon/Yoon.jpg\")\n",
    "biden_face_encoding3 = face_recognition.face_encodings(biden_image3)[0]\n",
    "\n",
    "# Load a second sample picture and learn how to recognize it.\n",
    "biden_image4 = face_recognition.load_image_file(\"C:/Users/KimSeongHoon/data\\BGH/Jin/Jin.jpg\")\n",
    "biden_face_encoding4 = face_recognition.face_encodings(biden_image4)[0]\n",
    "\n",
    "# Load a second sample picture and learn how to recognize it.\n",
    "biden_image5 = face_recognition.load_image_file(\"C:/Users/KimSeongHoon/data\\BGH/Min/Min.jpg\")\n",
    "biden_face_encoding5 = face_recognition.face_encodings(biden_image5)[0]\n",
    "\n",
    "# Create arrays of known face encodings and their names\n",
    "known_face_encodings = [\n",
    "    obama_face_encoding,\n",
    "    biden_face_encoding,\n",
    "    biden_face_encoding2,\n",
    "    biden_face_encoding3,\n",
    "    biden_face_encoding4,\n",
    "    biden_face_encoding5\n",
    "]\n",
    "known_face_names = [\n",
    "    \"kim\",\n",
    "    \"Lee\",\n",
    "    \"Jeong\",\n",
    "    \"Yoon\",\n",
    "    \"Jin\",\n",
    "    \"Min\"\n",
    "]\n",
    "\n",
    "# Initialize some variables\n",
    "face_locations = []\n",
    "face_encodings = []\n",
    "face_names = []\n",
    "process_this_frame = True\n",
    "\n",
    "while True:\n",
    "    # Grab a single frame of video\n",
    "    ret, frame = video_capture.read()\n",
    "\n",
    "    # Resize frame of video to 1/4 size for faster face recognition processing\n",
    "    small_frame = cv2.resize(frame, (0, 0), fx=0.25, fy=0.25)\n",
    "\n",
    "    # Convert the image from BGR color (which OpenCV uses) to RGB color (which face_recognition uses)\n",
    "    rgb_small_frame = small_frame[:, :, ::-1]\n",
    "\n",
    "    # Only process every other frame of video to save time\n",
    "    if process_this_frame:\n",
    "        # Find all the faces and face encodings in the current frame of video\n",
    "        face_locations = face_recognition.face_locations(rgb_small_frame)\n",
    "        face_encodings = face_recognition.face_encodings(rgb_small_frame, face_locations)\n",
    "\n",
    "        face_names = []\n",
    "        for face_encoding in face_encodings:\n",
    "            # See if the face is a match for the known face(s)\n",
    "            matches = face_recognition.compare_faces(known_face_encodings, face_encoding)\n",
    "            name = \"Unknown\"\n",
    "\n",
    "            # # If a match was found in known_face_encodings, just use the first one.\n",
    "            # if True in matches:\n",
    "            #     first_match_index = matches.index(True)\n",
    "            #     name = known_face_names[first_match_index]\n",
    "\n",
    "            # Or instead, use the known face with the smallest distance to the new face\n",
    "            face_distances = face_recognition.face_distance(known_face_encodings, face_encoding)\n",
    "            best_match_index = np.argmin(face_distances)\n",
    "            if matches[best_match_index]:\n",
    "                name = known_face_names[best_match_index]\n",
    "\n",
    "            face_names.append(name)\n",
    "\n",
    "    process_this_frame = not process_this_frame\n",
    "\n",
    "\n",
    "    # Display the results\n",
    "    for (top, right, bottom, left), name in zip(face_locations, face_names):\n",
    "        # Scale back up face locations since the frame we detected in was scaled to 1/4 size\n",
    "        top *= 4\n",
    "        right *= 4\n",
    "        bottom *= 4\n",
    "        left *= 4\n",
    "\n",
    "        # Draw a box around the face\n",
    "        cv2.rectangle(frame, (left, top), (right, bottom), (0, 0, 255), 2)\n",
    "\n",
    "        # Draw a label with a name below the face\n",
    "        cv2.rectangle(frame, (left, bottom - 35), (right, bottom), (0, 0, 255), cv2.FILLED)\n",
    "        font = cv2.FONT_HERSHEY_DUPLEX\n",
    "        cv2.putText(frame, name, (left + 6, bottom - 6), font, 1.0, (255, 255, 255), 1)\n",
    "\n",
    "    # Display the resulting image\n",
    "    cv2.imshow('Video', frame)\n",
    "\n",
    "    # Hit 'q' on the keyboard to quit!\n",
    "    if cv2.waitKey(1) & 0xFF == ord('q'):\n",
    "        break\n",
    "\n",
    "# Release handle to the webcam\n",
    "video_capture.release()\n",
    "cv2.destroyAllWindows()"
   ]
  },
  {
   "cell_type": "code",
   "execution_count": null,
   "id": "cf0779d6",
   "metadata": {},
   "outputs": [],
   "source": []
  },
  {
   "cell_type": "code",
   "execution_count": null,
   "id": "4155dc85",
   "metadata": {},
   "outputs": [],
   "source": []
  }
 ],
 "metadata": {
  "kernelspec": {
   "display_name": "Python 3",
   "language": "python",
   "name": "python3"
  },
  "language_info": {
   "codemirror_mode": {
    "name": "ipython",
    "version": 3
   },
   "file_extension": ".py",
   "mimetype": "text/x-python",
   "name": "python",
   "nbconvert_exporter": "python",
   "pygments_lexer": "ipython3",
   "version": "3.6.13"
  }
 },
 "nbformat": 4,
 "nbformat_minor": 5
}

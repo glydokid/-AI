{
 "cells": [
  {
   "cell_type": "code",
   "execution_count": 2,
   "id": "55811790",
   "metadata": {},
   "outputs": [
    {
     "name": "stdout",
     "output_type": "stream",
     "text": [
      "Requirement already satisfied: konlpy in c:\\users\\kimseonghoon\\anaconda3\\lib\\site-packages (0.6.0)\n",
      "Requirement already satisfied: numpy>=1.6 in c:\\users\\kimseonghoon\\anaconda3\\lib\\site-packages (from konlpy) (1.20.3)\n",
      "Requirement already satisfied: lxml>=4.1.0 in c:\\users\\kimseonghoon\\anaconda3\\lib\\site-packages (from konlpy) (4.6.3)\n",
      "Requirement already satisfied: JPype1>=0.7.0 in c:\\users\\kimseonghoon\\anaconda3\\lib\\site-packages (from konlpy) (1.3.0)\n"
     ]
    }
   ],
   "source": [
    "# konlpy 패키지 다운로드\n",
    "!pip install konlpy"
   ]
  },
  {
   "cell_type": "code",
   "execution_count": 3,
   "id": "c7bc6037",
   "metadata": {},
   "outputs": [],
   "source": [
    "# konlpy 관련 패키지 import\n",
    "from konlpy.tag import Okt\n",
    "from konlpy.tag import Kkma\n",
    "from konlpy.tag import Hannanum\n",
    "from konlpy.tag import Komoran\n",
    "from konlpy.tag import Twitter"
   ]
  },
  {
   "cell_type": "code",
   "execution_count": 16,
   "id": "b3fa0f83",
   "metadata": {},
   "outputs": [],
   "source": [
    "from konlpy.tag import Mecab"
   ]
  },
  {
   "cell_type": "code",
   "execution_count": 13,
   "id": "9309f9d7",
   "metadata": {},
   "outputs": [],
   "source": [
    "kkma = Kkma()\n",
    "okt = Okt()\n",
    "komoran = Komoran()\n",
    "hannanum = Hannanum()\n",
    "twitter = Twitter()"
   ]
  },
  {
   "cell_type": "code",
   "execution_count": 18,
   "id": "0cbb3bd3",
   "metadata": {},
   "outputs": [
    {
     "ename": "Exception",
     "evalue": "Install MeCab in order to use it: http://konlpy.org/en/latest/install/",
     "output_type": "error",
     "traceback": [
      "\u001b[1;31m---------------------------------------------------------------------------\u001b[0m",
      "\u001b[1;31mNameError\u001b[0m                                 Traceback (most recent call last)",
      "\u001b[1;32m~\\anaconda3\\lib\\site-packages\\konlpy\\tag\\_mecab.py\u001b[0m in \u001b[0;36m__init__\u001b[1;34m(self, dicpath)\u001b[0m\n\u001b[0;32m     76\u001b[0m         \u001b[1;32mtry\u001b[0m\u001b[1;33m:\u001b[0m\u001b[1;33m\u001b[0m\u001b[1;33m\u001b[0m\u001b[0m\n\u001b[1;32m---> 77\u001b[1;33m             \u001b[0mself\u001b[0m\u001b[1;33m.\u001b[0m\u001b[0mtagger\u001b[0m \u001b[1;33m=\u001b[0m \u001b[0mTagger\u001b[0m\u001b[1;33m(\u001b[0m\u001b[1;34m'-d %s'\u001b[0m \u001b[1;33m%\u001b[0m \u001b[0mdicpath\u001b[0m\u001b[1;33m)\u001b[0m\u001b[1;33m\u001b[0m\u001b[1;33m\u001b[0m\u001b[0m\n\u001b[0m\u001b[0;32m     78\u001b[0m             \u001b[0mself\u001b[0m\u001b[1;33m.\u001b[0m\u001b[0mtagset\u001b[0m \u001b[1;33m=\u001b[0m \u001b[0mutils\u001b[0m\u001b[1;33m.\u001b[0m\u001b[0mread_json\u001b[0m\u001b[1;33m(\u001b[0m\u001b[1;34m'%s/data/tagset/mecab.json'\u001b[0m \u001b[1;33m%\u001b[0m \u001b[0mutils\u001b[0m\u001b[1;33m.\u001b[0m\u001b[0minstallpath\u001b[0m\u001b[1;33m)\u001b[0m\u001b[1;33m\u001b[0m\u001b[1;33m\u001b[0m\u001b[0m\n",
      "\u001b[1;31mNameError\u001b[0m: name 'Tagger' is not defined",
      "\nDuring handling of the above exception, another exception occurred:\n",
      "\u001b[1;31mException\u001b[0m                                 Traceback (most recent call last)",
      "\u001b[1;32mC:\\Users\\KIMSEO~1\\AppData\\Local\\Temp/ipykernel_16388/4062528961.py\u001b[0m in \u001b[0;36m<module>\u001b[1;34m\u001b[0m\n\u001b[1;32m----> 1\u001b[1;33m \u001b[0mmecab\u001b[0m \u001b[1;33m=\u001b[0m \u001b[0mMecab\u001b[0m\u001b[1;33m(\u001b[0m\u001b[1;33m)\u001b[0m\u001b[1;33m\u001b[0m\u001b[1;33m\u001b[0m\u001b[0m\n\u001b[0m",
      "\u001b[1;32m~\\anaconda3\\lib\\site-packages\\konlpy\\tag\\_mecab.py\u001b[0m in \u001b[0;36m__init__\u001b[1;34m(self, dicpath)\u001b[0m\n\u001b[0;32m     80\u001b[0m             \u001b[1;32mraise\u001b[0m \u001b[0mException\u001b[0m\u001b[1;33m(\u001b[0m\u001b[1;34m'The MeCab dictionary does not exist at \"%s\". Is the dictionary correctly installed?\\nYou can also try entering the dictionary path when initializing the Mecab class: \"Mecab(\\'/some/dic/path\\')\"'\u001b[0m \u001b[1;33m%\u001b[0m \u001b[0mdicpath\u001b[0m\u001b[1;33m)\u001b[0m\u001b[1;33m\u001b[0m\u001b[1;33m\u001b[0m\u001b[0m\n\u001b[0;32m     81\u001b[0m         \u001b[1;32mexcept\u001b[0m \u001b[0mNameError\u001b[0m\u001b[1;33m:\u001b[0m\u001b[1;33m\u001b[0m\u001b[1;33m\u001b[0m\u001b[0m\n\u001b[1;32m---> 82\u001b[1;33m             \u001b[1;32mraise\u001b[0m \u001b[0mException\u001b[0m\u001b[1;33m(\u001b[0m\u001b[1;34m'Install MeCab in order to use it: http://konlpy.org/en/latest/install/'\u001b[0m\u001b[1;33m)\u001b[0m\u001b[1;33m\u001b[0m\u001b[1;33m\u001b[0m\u001b[0m\n\u001b[0m\u001b[0;32m     83\u001b[0m \u001b[1;33m\u001b[0m\u001b[0m\n\u001b[0;32m     84\u001b[0m     \u001b[1;32mdef\u001b[0m \u001b[0m__setstate__\u001b[0m\u001b[1;33m(\u001b[0m\u001b[0mself\u001b[0m\u001b[1;33m,\u001b[0m \u001b[0mstate\u001b[0m\u001b[1;33m)\u001b[0m\u001b[1;33m:\u001b[0m\u001b[1;33m\u001b[0m\u001b[1;33m\u001b[0m\u001b[0m\n",
      "\u001b[1;31mException\u001b[0m: Install MeCab in order to use it: http://konlpy.org/en/latest/install/"
     ]
    }
   ],
   "source": [
    "mecab = Meca.Tagger()"
   ]
  },
  {
   "cell_type": "code",
   "execution_count": 5,
   "id": "180f9e39",
   "metadata": {},
   "outputs": [
    {
     "name": "stdout",
     "output_type": "stream",
     "text": [
      "kkma 문장 분리 :  ['네 안녕하세요', '반갑습니다.']\n"
     ]
    }
   ],
   "source": [
    "# konlpy 중 Kkma는 문장 분리가 가능 (다른 라이브러리는 되지 않음)\n",
    "print (\"kkma 문장 분리 : \", kkma.sentences('네 안녕하세요 반갑습니다.'))"
   ]
  },
  {
   "cell_type": "code",
   "execution_count": 6,
   "id": "d0ed2ce8",
   "metadata": {},
   "outputs": [
    {
     "name": "stdout",
     "output_type": "stream",
     "text": [
      "okt 형태소 분석 : ['집', '에', '가면', '감자', '좀', '쪄줄래', '?']\n",
      "kkma 형태소 분석 :  ['집', '에', '가', '면', '감자', '좀', '찌', '어', '주', 'ㄹ래', '?']\n",
      "hannanum 형태소 분석 :  ['집', '에', '가', '면', '감', '자', '좀', '찌', '어', '줄', '래', '?']\n",
      "komoran 형태소 분석 :  ['집', '에', '가', '면', '감자', '좀', '찌', '어', '주', 'ㄹ래', '?']\n",
      "twitter 형태소 분석 :  ['집', '에', '가면', '감자', '좀', '쪄줄래', '?']\n"
     ]
    }
   ],
   "source": [
    "# konlpy 의 라이브러리 형태소 분석 비교\n",
    "print(\"okt 형태소 분석 :\", okt.morphs(u\"집에 가면 감자 좀 쪄줄래?\"))\n",
    "print(\"kkma 형태소 분석 : \", kkma.morphs(u\"집에 가면 감자 좀 쪄줄래?\"))\n",
    "print(\"hannanum 형태소 분석 : \", hannanum.morphs(u\"집에 가면 감자 좀 쪄줄래?\"))\n",
    "print(\"komoran 형태소 분석 : \", komoran.morphs(u\"집에 가면 감자 좀 쪄줄래?\"))\n",
    "print(\"twitter 형태소 분석 : \", twitter.morphs(u\"집에 가면 감자 좀 쪄줄래?\"))"
   ]
  },
  {
   "cell_type": "code",
   "execution_count": 7,
   "id": "f46e6c3f",
   "metadata": {},
   "outputs": [
    {
     "name": "stdout",
     "output_type": "stream",
     "text": [
      "kkma 문장 분리 :  ['만나서 반갑습니다', '저는 김 성훈이라고 합니다.']\n"
     ]
    }
   ],
   "source": [
    "# konlpy 중 Kkma는 문장 분리가 가능 (다른 라이브러리는 되지 않음)\n",
    "print (\"kkma 문장 분리 : \", kkma.sentences('만나서 반갑습니다 저는 김성훈이라고 합니다.'))"
   ]
  },
  {
   "cell_type": "code",
   "execution_count": 9,
   "id": "ff0ea554",
   "metadata": {},
   "outputs": [
    {
     "name": "stdout",
     "output_type": "stream",
     "text": [
      "okt 형태소 분석 : ['아버지', '가방', '에', '들어가신다']\n",
      "kkma 형태소 분석 :  ['아버지', '가방', '에', '들어가', '시', 'ㄴ다']\n",
      "hannanum 형태소 분석 :  ['아버지가방에들어가', '이', '시ㄴ다']\n",
      "komoran 형태소 분석 :  ['아버지', '가방', '에', '들어가', '시', 'ㄴ다']\n",
      "twitter 형태소 분석 :  ['아버지', '가방', '에', '들어가신다']\n"
     ]
    }
   ],
   "source": [
    "# konlpy 의 라이브러리 형태소 분석 비교\n",
    "print(\"okt 형태소 분석 :\", okt.morphs(u\"아버지가방에들어가신다\"))\n",
    "print(\"kkma 형태소 분석 : \", kkma.morphs(u\"아버지가방에들어가신다\"))\n",
    "print(\"hannanum 형태소 분석 : \", hannanum.morphs(u\"아버지가방에들어가신다\"))\n",
    "print(\"komoran 형태소 분석 : \", komoran.morphs(u\"아버지가방에들어가신다\"))\n",
    "print(\"twitter 형태소 분석 : \", twitter.morphs(u\"아버지가방에들어가신다\"))"
   ]
  },
  {
   "cell_type": "code",
   "execution_count": 19,
   "id": "70b76f98",
   "metadata": {},
   "outputs": [
    {
     "name": "stdout",
     "output_type": "stream",
     "text": [
      "okt 형태소 분석 : ['아버지', '가', '방', '에', '들어가신다']\n",
      "kkma 형태소 분석 :  ['아버지', '가', '방', '에', '들어가', '시', 'ㄴ다']\n",
      "hannanum 형태소 분석 :  ['아버지', '가', '방', '에', '들', '어', '가', '시ㄴ다']\n",
      "komoran 형태소 분석 :  ['아버지', '가', '방', '에', '들어가', '시', 'ㄴ다']\n",
      "twitter 형태소 분석 :  ['아버지', '가', '방', '에', '들어가신다']\n"
     ]
    }
   ],
   "source": [
    "# konlpy 의 라이브러리 형태소 분석 비교\n",
    "print(\"okt 형태소 분석 :\", okt.morphs(u\"아버지가 방에 들어가신다\"))\n",
    "print(\"kkma 형태소 분석 : \", kkma.morphs(u\"아버지가 방에 들어가신다\"))\n",
    "print(\"hannanum 형태소 분석 : \", hannanum.morphs(u\"아버지가 방에 들어가신다\"))\n",
    "print(\"komoran 형태소 분석 : \", komoran.morphs(u\"아버지가 방에 들어가신다\"))\n",
    "print(\"twitter 형태소 분석 : \", twitter.morphs(u\"아버지가 방에 들어가신다\"))"
   ]
  },
  {
   "cell_type": "code",
   "execution_count": null,
   "id": "8e3335da",
   "metadata": {},
   "outputs": [],
   "source": []
  }
 ],
 "metadata": {
  "kernelspec": {
   "display_name": "Python 3 (ipykernel)",
   "language": "python",
   "name": "python3"
  },
  "language_info": {
   "codemirror_mode": {
    "name": "ipython",
    "version": 3
   },
   "file_extension": ".py",
   "mimetype": "text/x-python",
   "name": "python",
   "nbconvert_exporter": "python",
   "pygments_lexer": "ipython3",
   "version": "3.9.7"
  }
 },
 "nbformat": 4,
 "nbformat_minor": 5
}
